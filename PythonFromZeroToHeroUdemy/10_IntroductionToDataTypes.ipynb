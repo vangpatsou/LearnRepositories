{
 "cells": [
  {
   "cell_type": "markdown",
   "metadata": {
    "collapsed": true,
    "pycharm": {
     "name": "#%% md\n"
    }
   },
   "source": [
    "### Introduction to data Types\n",
    "\n",
    "|  Name \t|  Type \t|   Description\t|\n",
    "|------\t|------\t|------\t|\n",
    "| Integers\t|   int\t|   Whole numbers, such as: 3 300 200\t|\n",
    "| Floating point \t|   float\t|   Numbers with a demical point: 2.3 4.6 100.0\t|\n",
    "| Strings\t|  str \t|  Ordered sequence of characters: \"Hello\" 'Sammy' \"2000\" \t|\n",
    "| Lists   \t| list  \t| Ordered sequence of objects: [10, \"hello\", 200.3 ]  \t|\n",
    "| Dictionaries |  dict \t| Unordered key:value paris: { \"myKey\": \"value\", \"name\": \"Frankie\" }  \t|\n",
    "| Tuples   \t| tup  \t| Ordered immutable sequence of objects: (10, \"hello\", 200.3)  \t|\n",
    "| Sets   \t| set  \t|  Unordered collection of unique objects {\"a\", \"b\"} \t|\n",
    "| Booleans \t|  bool \t|  Logical value indicating True or False |"
   ]
  },
  {
   "cell_type": "code",
   "execution_count": null,
   "outputs": [],
   "source": [
    "\n"
   ],
   "metadata": {
    "collapsed": false,
    "pycharm": {
     "name": "#%%\n"
    }
   }
  }
 ],
 "metadata": {
  "kernelspec": {
   "display_name": "Python 3",
   "language": "python",
   "name": "python3"
  },
  "language_info": {
   "codemirror_mode": {
    "name": "ipython",
    "version": 2
   },
   "file_extension": ".py",
   "mimetype": "text/x-python",
   "name": "python",
   "nbconvert_exporter": "python",
   "pygments_lexer": "ipython2",
   "version": "2.7.6"
  },
  "pycharm": {
   "stem_cell": {
    "cell_type": "raw",
    "source": [],
    "metadata": {
     "collapsed": false
    }
   }
  }
 },
 "nbformat": 4,
 "nbformat_minor": 0
}